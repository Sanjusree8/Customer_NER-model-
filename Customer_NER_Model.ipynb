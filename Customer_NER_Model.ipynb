{
  "nbformat": 4,
  "nbformat_minor": 0,
  "metadata": {
    "colab": {
      "name": "Customer_NER_Model.ipynb",
      "provenance": []
    },
    "kernelspec": {
      "name": "python3",
      "display_name": "Python 3"
    }
  },
  "cells": [
    {
      "cell_type": "code",
      "metadata": {
        "id": "ELD8VKQODT2L"
      },
      "source": [
        "import pandas as pd\n",
        "import string\n",
        "import re\n",
        "import io\n",
        "import numpy as np\n",
        "from unicodedata import normalize\n",
        "import keras, tensorflow\n",
        "from keras.models import Model\n",
        "from keras.layers import Input, LSTM, Dense"
      ],
      "execution_count": null,
      "outputs": []
    },
    {
      "cell_type": "code",
      "metadata": {
        "id": "x8zXHvR9DUx8",
        "colab": {
          "base_uri": "https://localhost:8080/",
          "height": 68
        },
        "outputId": "719d93a5-a87c-43a3-90f1-e3848ccf81c8"
      },
      "source": [
        "import spacy \n",
        "  \n",
        "nlp = spacy.load('en_core_web_sm') \n",
        "  \n",
        "sentence = \"Apple is looking at buying U.K. startup for $1 billion\"\n",
        "  \n",
        "doc = nlp(sentence) \n",
        "  \n",
        "for ent in doc.ents: \n",
        "    print(ent.text, ent.start_char, ent.end_char, ent.label_) "
      ],
      "execution_count": null,
      "outputs": [
        {
          "output_type": "stream",
          "text": [
            "Apple 0 5 ORG\n",
            "U.K. 27 31 GPE\n",
            "$1 billion 44 54 MONEY\n"
          ],
          "name": "stdout"
        }
      ]
    },
    {
      "cell_type": "code",
      "metadata": {
        "id": "uflrkWdPIYwr",
        "colab": {
          "base_uri": "https://localhost:8080/",
          "height": 34
        },
        "outputId": "85553c56-c1e2-4309-a82a-5da5d2d5d5ed"
      },
      "source": [
        "import spacy\n",
        "nlp=spacy.load('en_core_web_sm')\n",
        "\n",
        "nlp.pipe_names"
      ],
      "execution_count": null,
      "outputs": [
        {
          "output_type": "execute_result",
          "data": {
            "text/plain": [
              "['tagger', 'parser', 'ner']"
            ]
          },
          "metadata": {
            "tags": []
          },
          "execution_count": 4
        }
      ]
    },
    {
      "cell_type": "code",
      "metadata": {
        "id": "8MOmYlGXKKw3",
        "colab": {
          "base_uri": "https://localhost:8080/",
          "height": 1000
        },
        "outputId": "1c11cffb-c341-4e14-e2ba-cd4e6a64acb5"
      },
      "source": [
        "article_text=\"\"\"India that previously comprised only a handful of players in the e-commerce space, is now home to many biggies and giants battling out with each other to reach the top. This is thanks to the overwhelming internet and smartphone penetration coupled with the ever-increasing digital adoption across the country. These new-age innovations not only gave emerging startups a unique platform to deliver seamless shopping experiences but also provided brick and mortar stores with a level-playing field to begin their online journeys without leaving their offline legacies.\n",
        "In the wake of so many players coming together on one platform, the Indian e-commerce market is envisioned to reach USD 84 billion in 2021 from USD 24 billion in 2017. Further, with the rate at which internet penetration is increasing, we can expect more and more international retailers coming to India in addition to a large pool of new startups. This, in turn, will provide a major Philip to the organized retail market and boost its share from 12% in 2017 to 22-25% by 2021. \n",
        "Here’s a view to the e-commerce giants that are dominating India’s online shopping space:\n",
        "Amazon – One of the uncontested global leaders, Amazon started its journey as a simple online bookstore that gradually expanded its reach to provide a large suite of diversified products including media, furniture, food, and electronics, among others. And now with the launch of Amazon Prime and Amazon Music Limited, it has taken customer experience to a godly level, which will remain undefeatable for a very long time. \n",
        "Flipkart – Founded in 2007, Flipkart is recognized as the national leader in the Indian e-commerce market. Just like Amazon, it started operating by selling books and then entered other categories such as electronics, fashion, and lifestyle, mobile phones, etc. And now that it has been acquired by Walmart, one of the largest leading platforms of e-commerce in the US, it has also raised its bar of customer offerings in all aspects and giving huge competition to Amazon. \n",
        "Snapdeal – Started as a daily deals platform in 2010, Snapdeal became a full-fledged online marketplace in 2011 comprising more than 3 lac sellers across India. The platform offers over 30 million products across 800+ diverse categories from over 125,000 regional, national, and international brands and retailers. The Indian e-commerce firm follows a robust strategy to stay at the forefront of innovation and deliver seamless customer offerings to its wide customer base. It has shown great potential for recovery in recent years despite losing Freecharge and Unicommerce. \n",
        "ShopClues – Another renowned name in the Indian e-commerce industry, ShopClues was founded in July 2011. It’s a Gurugram based company having a current valuation of INR 1.1 billion and is backed by prominent names including Nexus Venture Partners, Tiger Global, and Helion Ventures as its major investors. Presently, the platform comprises more than 5 lac sellers selling products in nine different categories such as computers, cameras, mobiles, etc. \n",
        "Paytm Mall – To compete with the existing e-commerce giants, Paytm, an online payment system has also launched its online marketplace – Paytm Mall, which offers a wide array of products ranging from men and women fashion to groceries and cosmetics, electronics and home products, and many more. The unique thing about this platform is that it serves as a medium for third parties to sell their products directly through the widely-known app – Paytm. \n",
        "Reliance Retail – Given Reliance Jio’s disruptive venture in the Indian telecom space along with a solid market presence of Reliance, it is no wonder that Reliance will soon be foraying into retail space. As of now, it has plans to build an e-commerce space that will be established on online-to-offline market program and aim to bring local merchants on board to help them boost their sales and compete with the existing industry leaders. \n",
        "Big Basket – India’s biggest online supermarket, Big Basket provides a wide variety of imported and gourmet products through two types of delivery services – express delivery and slotted delivery. It also offers pre-cut fruits along with a long list of beverages including fresh juices, cold drinks, hot teas, etc. Moreover, it not only provides farm-fresh products but also ensures that the farmer gets better prices. \n",
        "Grofers – One of the leading e-commerce players in the grocery segment, Grofers started its operations in 2013 and has reached overwhelming heights in the last 5 years. Its wide range of products includes atta, milk, oil, daily need products, vegetables, dairy products, juices, beverages, among others. With its growing reach across India, it has become one of the favorite supermarkets for Indian consumers who want to shop grocery items from the comforts of their homes. \n",
        "Digital Mall of Asia – Going live in 2020, Digital Mall of Asia is a very unique concept coined by the founders of Yokeasia Malls. It is designed to provide an immersive digital space equipped with multiple visual and sensory elements to sellers and shoppers. It will also give retailers exclusive rights to sell a particular product category or brand in their respective cities. What makes it unique is its zero-commission model enabling retailers to pay only a fixed amount of monthly rental instead of paying commissions. With its one-of-a-kind features, DMA is expected to bring\n",
        "never-seen transformation to the current e-commerce ecosystem while addressing all the existing e-commerce worries such as counterfeiting. \"\"\"\n",
        "\n",
        "doc=nlp(article_text)\n",
        "for ent in doc.ents:\n",
        "  print(ent.text,ent.label_)"
      ],
      "execution_count": null,
      "outputs": [
        {
          "output_type": "stream",
          "text": [
            "India GPE\n",
            "one CARDINAL\n",
            "Indian NORP\n",
            "USD 84 billion MONEY\n",
            "2021 DATE\n",
            "USD 24 billion MONEY\n",
            "2017 DATE\n",
            "India GPE\n",
            "Philip PERSON\n",
            "12% PERCENT\n",
            "2017 DATE\n",
            "22-25% PERCENT\n",
            "2021 DATE\n",
            "India GPE\n",
            "Amazon ORG\n",
            "One CARDINAL\n",
            "Amazon ORG\n",
            "Amazon ORG\n",
            "Amazon Music Limited ORG\n",
            "Flipkart PERSON\n",
            "2007 DATE\n",
            "Flipkart PERSON\n",
            "Indian NORP\n",
            "Amazon ORG\n",
            "Walmart LOC\n",
            "one CARDINAL\n",
            "US GPE\n",
            "Amazon ORG\n",
            "daily DATE\n",
            "2010 DATE\n",
            "2011 DATE\n",
            "more than 3 CARDINAL\n",
            "India GPE\n",
            "over 30 million CARDINAL\n",
            "over 125,000 CARDINAL\n",
            "Indian NORP\n",
            "recent years DATE\n",
            "Freecharge PERSON\n",
            "Unicommerce GPE\n",
            "ShopClues PERSON\n",
            "Indian NORP\n",
            "ShopClues ORG\n",
            "July 2011 DATE\n",
            "Gurugram ORG\n",
            "INR ORG\n",
            "1.1 billion CARDINAL\n",
            "Nexus Venture Partners ORG\n",
            "Helion Ventures ORG\n",
            "more than 5 CARDINAL\n",
            "nine CARDINAL\n",
            "Paytm Mall PERSON\n",
            "Paytm ORG\n",
            "Paytm Mall FAC\n",
            "third ORDINAL\n",
            "Paytm GPE\n",
            "Indian NORP\n",
            "Reliance ORG\n",
            "Reliance ORG\n",
            "India GPE\n",
            "Big Basket ORG\n",
            "two CARDINAL\n",
            "One CARDINAL\n",
            "2013 DATE\n",
            "the last 5 years DATE\n",
            "daily DATE\n",
            "India GPE\n",
            "Indian NORP\n",
            "Digital Mall FAC\n",
            "Asia LOC\n",
            "2020 DATE\n",
            "Digital Mall ORG\n",
            "Asia LOC\n",
            "Yokeasia Malls GPE\n",
            "zero CARDINAL\n",
            "monthly DATE\n",
            "one CARDINAL\n"
          ],
          "name": "stdout"
        }
      ]
    },
    {
      "cell_type": "code",
      "metadata": {
        "id": "OkzwuVc-KP54"
      },
      "source": [
        "import spacy\n",
        "nlp=spacy.load('en_core_web_sm')\n",
        "\n",
        "# Getting the pipeline component\n",
        "ner=nlp.get_pipe(\"ner\")"
      ],
      "execution_count": null,
      "outputs": []
    },
    {
      "cell_type": "code",
      "metadata": {
        "id": "eBjj2ngdKflY"
      },
      "source": [
        "TRAIN_DATA = [\n",
        "              (\"Walmart is a leading e-commerce company\", {\"entities\": [(0, 7, \"ORG\")]}),\n",
        "              (\"I reached Chennai yesterday.\", {\"entities\": [(19, 28, \"GPE\")]}),\n",
        "              (\"I recently ordered a book from Amazon\", {\"entities\": [(24,32, \"ORG\")]}),\n",
        "              (\"I was driving a BMW\", {\"entities\": [(16,19, \"PRODUCT\")]}),\n",
        "              (\"I ordered this from ShopClues\", {\"entities\": [(20,29, \"ORG\")]}),\n",
        "              (\"Fridge can be ordered in Amazon \", {\"entities\": [(0,6, \"PRODUCT\")]}),\n",
        "              (\"I bought a new Washer\", {\"entities\": [(16,22, \"PRODUCT\")]}),\n",
        "              (\"I bought a old table\", {\"entities\": [(16,21, \"PRODUCT\")]}),\n",
        "              (\"I bought a fancy dress\", {\"entities\": [(18,23, \"PRODUCT\")]}),\n",
        "              (\"I rented a camera\", {\"entities\": [(12,18, \"PRODUCT\")]}),\n",
        "              (\"I rented a tent for our trip\", {\"entities\": [(12,16, \"PRODUCT\")]}),\n",
        "              (\"I rented a screwdriver from our neighbour\", {\"entities\": [(12,22, \"PRODUCT\")]}),\n",
        "              (\"I repaired my computer\", {\"entities\": [(15,23, \"PRODUCT\")]}),\n",
        "              (\"I got my clock fixed\", {\"entities\": [(16,21, \"PRODUCT\")]}),\n",
        "              (\"I got my truck fixed\", {\"entities\": [(16,21, \"PRODUCT\")]}),\n",
        "              (\"Flipkart started it's journey from zero\", {\"entities\": [(0,8, \"ORG\")]}),\n",
        "              (\"I recently ordered from Max\", {\"entities\": [(24,27, \"ORG\")]}),\n",
        "              (\"Flipkart is recognized as leader in market\",{\"entities\": [(0,8, \"ORG\")]}),\n",
        "              (\"I recently ordered from Swiggy\", {\"entities\": [(24,29, \"ORG\")]})\n",
        "              ]\n"
      ],
      "execution_count": null,
      "outputs": []
    },
    {
      "cell_type": "code",
      "metadata": {
        "id": "EB8nYsgJKkPy"
      },
      "source": [
        "for _, annotations in TRAIN_DATA:\n",
        "  for ent in annotations.get(\"entities\"):\n",
        "    ner.add_label(ent[2])"
      ],
      "execution_count": null,
      "outputs": []
    },
    {
      "cell_type": "code",
      "metadata": {
        "id": "_hV-9wdyKsbI"
      },
      "source": [
        "pipe_exceptions = [\"ner\", \"trf_wordpiecer\", \"trf_tok2vec\"]\n",
        "unaffected_pipes = [pipe for pipe in nlp.pipe_names if pipe not in pipe_exceptions]"
      ],
      "execution_count": null,
      "outputs": []
    },
    {
      "cell_type": "code",
      "metadata": {
        "id": "N4i2myXcKwLY",
        "colab": {
          "base_uri": "https://localhost:8080/",
          "height": 1000
        },
        "outputId": "9d7d9864-c656-4ef9-a85d-7d184dbe419a"
      },
      "source": [
        "import random\n",
        "from spacy.util import minibatch, compounding\n",
        "from pathlib import Path\n",
        "\n",
        "# TRAINING THE MODEL\n",
        "with nlp.disable_pipes(*unaffected_pipes):\n",
        "\n",
        "  # Training for 30 iterations\n",
        "  for iteration in range(30):\n",
        "\n",
        "    # shuufling examples  before every iteration\n",
        "    random.shuffle(TRAIN_DATA)\n",
        "    losses = {}\n",
        "    # batch up the examples using spaCy's minibatch\n",
        "    batches = minibatch(TRAIN_DATA, size=compounding(4.0, 32.0, 1.001))\n",
        "    for batch in batches:\n",
        "        texts, annotations = zip(*batch)\n",
        "        nlp.update(\n",
        "                    texts,  # batch of texts\n",
        "                    annotations,  # batch of annotations\n",
        "                    drop=0.5,  # dropout - make it harder to memorise data\n",
        "                    losses=losses,\n",
        "                )\n",
        "        print(\"Losses\", losses)"
      ],
      "execution_count": null,
      "outputs": [
        {
          "output_type": "stream",
          "text": [
            "Losses {'ner': 1.9882859303470468}\n",
            "Losses {'ner': 5.634961072297301}\n",
            "Losses {'ner': 11.803670467052143}\n",
            "Losses {'ner': 13.502900357249018}\n",
            "Losses {'ner': 18.06278129445262}\n",
            "Losses {'ner': 2.078810068876919}\n",
            "Losses {'ner': 3.0611536811447877}\n",
            "Losses {'ner': 7.526298468856112}\n",
            "Losses {'ner': 9.394787967750744}\n",
            "Losses {'ner': 11.2396619980791}\n",
            "Losses {'ner': 2.221277343314796}\n",
            "Losses {'ner': 8.61888522028886}\n",
            "Losses {'ner': 11.088061991480856}\n",
            "Losses {'ner': 12.321575109517937}\n",
            "Losses {'ner': 14.0720706647474}\n",
            "Losses {'ner': 3.907622319064103}\n",
            "Losses {'ner': 9.538532172143732}\n",
            "Losses {'ner': 14.695532049797748}\n",
            "Losses {'ner': 16.479321760275525}\n",
            "Losses {'ner': 16.484688446221753}\n",
            "Losses {'ner': 0.06235205397388199}\n",
            "Losses {'ner': 4.5184511692859815}\n",
            "Losses {'ner': 8.835250333453587}\n",
            "Losses {'ner': 12.06350378299976}\n",
            "Losses {'ner': 15.660416640144831}\n",
            "Losses {'ner': 1.7663408565567806}\n",
            "Losses {'ner': 4.381714181017742}\n",
            "Losses {'ner': 5.745141148745461}\n",
            "Losses {'ner': 11.77486925352224}\n",
            "Losses {'ner': 11.824775996022801}\n",
            "Losses {'ner': 3.2450135579495054}\n",
            "Losses {'ner': 5.034836116123415}\n",
            "Losses {'ner': 7.173808455401968}\n",
            "Losses {'ner': 8.489881219684548}\n",
            "Losses {'ner': 9.678208228048163}\n",
            "Losses {'ner': 1.4942080586624797}\n",
            "Losses {'ner': 4.8692798545525875}\n",
            "Losses {'ner': 9.392881411397866}\n",
            "Losses {'ner': 9.416807005290138}\n",
            "Losses {'ner': 9.430112508351613}\n",
            "Losses {'ner': 0.6554561816556088}\n",
            "Losses {'ner': 1.1720692892376974}\n",
            "Losses {'ner': 3.1542037186554808}\n",
            "Losses {'ner': 5.513183120321628}\n",
            "Losses {'ner': 5.54756092820935}\n",
            "Losses {'ner': 1.7233372284754296}\n",
            "Losses {'ner': 2.056114328634976}\n",
            "Losses {'ner': 4.520868903330161}\n",
            "Losses {'ner': 5.095242806885786}\n",
            "Losses {'ner': 6.67594455170866}\n",
            "Losses {'ner': 1.604852777949418}\n",
            "Losses {'ner': 2.017970617580275}\n",
            "Losses {'ner': 2.018070191955374}\n",
            "Losses {'ner': 2.048680842976026}\n",
            "Losses {'ner': 2.56647070357765}\n",
            "Losses {'ner': 0.00034483986594580074}\n",
            "Losses {'ner': 2.755956638683145}\n",
            "Losses {'ner': 3.916932175732157}\n",
            "Losses {'ner': 4.4150364170224705}\n",
            "Losses {'ner': 6.447441395257084}\n",
            "Losses {'ner': 3.4417798397907973}\n",
            "Losses {'ner': 5.452481940560574}\n",
            "Losses {'ner': 7.127891238285656}\n",
            "Losses {'ner': 7.136501580154637}\n",
            "Losses {'ner': 7.295998527234425}\n",
            "Losses {'ner': 0.05302625539479777}\n",
            "Losses {'ner': 1.2802974202676296}\n",
            "Losses {'ner': 4.560516203842912}\n",
            "Losses {'ner': 4.560524933654559}\n",
            "Losses {'ner': 4.608054702728904}\n",
            "Losses {'ner': 0.5250597991238948}\n",
            "Losses {'ner': 4.447824668530714}\n",
            "Losses {'ner': 4.44790750578791}\n",
            "Losses {'ner': 4.721333513310171}\n",
            "Losses {'ner': 6.416519773255423}\n",
            "Losses {'ner': 3.002509856075309}\n",
            "Losses {'ner': 3.0583688051186497}\n",
            "Losses {'ner': 3.188240029417673}\n",
            "Losses {'ner': 3.1889269528834374}\n",
            "Losses {'ner': 3.188943304798392}\n",
            "Losses {'ner': 1.8802499072174053}\n",
            "Losses {'ner': 3.0298414692499316}\n",
            "Losses {'ner': 3.108566675740094}\n",
            "Losses {'ner': 5.257070322158342}\n",
            "Losses {'ner': 5.257806843662102}\n",
            "Losses {'ner': 0.0006600187285172865}\n",
            "Losses {'ner': 0.9842646707845049}\n",
            "Losses {'ner': 0.9994521796333018}\n",
            "Losses {'ner': 1.0000993330040528}\n",
            "Losses {'ner': 2.960077357781335}\n",
            "Losses {'ner': 5.020522036147668e-05}\n",
            "Losses {'ner': 0.471029104933848}\n",
            "Losses {'ner': 0.9702365581313093}\n",
            "Losses {'ner': 1.198710145425584}\n",
            "Losses {'ner': 1.2045677855962262}\n",
            "Losses {'ner': 6.439737285646174e-07}\n",
            "Losses {'ner': 0.2994728385057863}\n",
            "Losses {'ner': 0.31573863106331945}\n",
            "Losses {'ner': 0.42863574115390524}\n",
            "Losses {'ner': 1.599418896497001}\n",
            "Losses {'ner': 0.0001187747284050189}\n",
            "Losses {'ner': 2.0678968926509627}\n",
            "Losses {'ner': 4.516102513855882}\n",
            "Losses {'ner': 5.280827385243098}\n",
            "Losses {'ner': 5.626173546190745}\n",
            "Losses {'ner': 1.3836887138325253}\n",
            "Losses {'ner': 1.383690070350003}\n",
            "Losses {'ner': 2.1231537866622436}\n",
            "Losses {'ner': 2.162515070510253}\n",
            "Losses {'ner': 2.212350427103756}\n",
            "Losses {'ner': 0.273616947136226}\n",
            "Losses {'ner': 0.2737404145868183}\n",
            "Losses {'ner': 0.6261974414292766}\n",
            "Losses {'ner': 1.0649430652635559}\n",
            "Losses {'ner': 1.067847812901074}\n",
            "Losses {'ner': 2.195907960777504}\n",
            "Losses {'ner': 3.3950986971434434}\n",
            "Losses {'ner': 3.4038664571770623}\n",
            "Losses {'ner': 3.877868531324311}\n",
            "Losses {'ner': 3.9730726934461202}\n",
            "Losses {'ner': 2.3553231100191034}\n",
            "Losses {'ner': 3.51276042599953}\n",
            "Losses {'ner': 3.5190230356971455}\n",
            "Losses {'ner': 3.5192200820498094}\n",
            "Losses {'ner': 3.5192200910697977}\n",
            "Losses {'ner': 0.12463579587148121}\n",
            "Losses {'ner': 0.12465032536988793}\n",
            "Losses {'ner': 0.6001940706308947}\n",
            "Losses {'ner': 0.6002131959438733}\n",
            "Losses {'ner': 0.6087806415287028}\n",
            "Losses {'ner': 0.13693237293337113}\n",
            "Losses {'ner': 0.13693361046183306}\n",
            "Losses {'ner': 1.2245739123080863}\n",
            "Losses {'ner': 1.2452562126122575}\n",
            "Losses {'ner': 1.2476552227349489}\n",
            "Losses {'ner': 1.7661317942893044}\n",
            "Losses {'ner': 1.868161198792834}\n",
            "Losses {'ner': 3.3961788479674433}\n",
            "Losses {'ner': 3.4205489361678754}\n",
            "Losses {'ner': 4.214710763472326}\n",
            "Losses {'ner': 0.002922315358529933}\n",
            "Losses {'ner': 0.0035798727000043093}\n",
            "Losses {'ner': 0.004485421255709103}\n",
            "Losses {'ner': 0.020400461336976344}\n",
            "Losses {'ner': 0.020800206609103276}\n",
            "Losses {'ner': 0.004822751420023907}\n",
            "Losses {'ner': 0.007124128100437987}\n",
            "Losses {'ner': 0.015651264365386598}\n",
            "Losses {'ner': 0.23035399586345118}\n",
            "Losses {'ner': 0.4988413237735946}\n"
          ],
          "name": "stdout"
        }
      ]
    },
    {
      "cell_type": "code",
      "metadata": {
        "id": "VQQWu782Kz2u",
        "colab": {
          "base_uri": "https://localhost:8080/",
          "height": 34
        },
        "outputId": "213b34f0-22df-4b6b-c3ca-da8421e93a22"
      },
      "source": [
        "doc = nlp(\"I was buying a product in Flipkart\")\n",
        "print(\"Entities\", [(ent.text, ent.label_) for ent in doc.ents])"
      ],
      "execution_count": null,
      "outputs": [
        {
          "output_type": "stream",
          "text": [
            "Entities [('Flipkart', 'ORG')]\n"
          ],
          "name": "stdout"
        }
      ]
    },
    {
      "cell_type": "code",
      "metadata": {
        "id": "oHqoMejWK3bn"
      },
      "source": [
        ""
      ],
      "execution_count": null,
      "outputs": []
    }
  ]
}